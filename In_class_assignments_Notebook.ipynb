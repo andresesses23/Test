{
  "nbformat": 4,
  "nbformat_minor": 0,
  "metadata": {
    "colab": {
      "provenance": [],
      "authorship_tag": "ABX9TyPsyx+cxUPc94aRAHrd2Q1e",
      "include_colab_link": true
    },
    "kernelspec": {
      "name": "python3",
      "display_name": "Python 3"
    },
    "language_info": {
      "name": "python"
    }
  },
  "cells": [
    {
      "cell_type": "markdown",
      "metadata": {
        "id": "view-in-github",
        "colab_type": "text"
      },
      "source": [
        "<a href=\"https://colab.research.google.com/github/andresesses23/Test/blob/main/In_class_assignments_Notebook.ipynb\" target=\"_parent\"><img src=\"https://colab.research.google.com/assets/colab-badge.svg\" alt=\"Open In Colab\"/></a>"
      ]
    },
    {
      "cell_type": "code",
      "source": [
        "pi= 3.14\n",
        "radius = float(input('Please provide radius:'))\n",
        "height = float(input('Please provide height of cylinder: '))\n",
        "\n",
        "area = 2 * pi * radius ** 2 + 2 * pi * radius * height\n",
        "print(f'Area of cylinder = {area} sq. ft')"
      ],
      "metadata": {
        "colab": {
          "base_uri": "https://localhost:8080/"
        },
        "id": "_qhdRcFkhlpK",
        "outputId": "5e502b4d-4b1a-46b8-ca44-9b10a6e30fa5"
      },
      "execution_count": 7,
      "outputs": [
        {
          "output_type": "stream",
          "name": "stdout",
          "text": [
            "Please provide radius:5\n",
            "Please provide height of cylinder: 10\n",
            "Area of cylinder = 471.0 sq. ft\n"
          ]
        }
      ]
    },
    {
      "cell_type": "code",
      "execution_count": 6,
      "metadata": {
        "colab": {
          "base_uri": "https://localhost:8080/"
        },
        "id": "29SM9dp4b_ol",
        "outputId": "8e58efb2-673b-44db-d515-65a78258041d"
      },
      "outputs": [
        {
          "output_type": "stream",
          "name": "stdout",
          "text": [
            "Please provide first number:5\n",
            "Please provide second number:9\n",
            "Please provide operator (+, -, /, //, *, **, %):#\n",
            "Invalid operator\n"
          ]
        }
      ],
      "source": [
        "n1 = float(input('Please provide first number:'))\n",
        "n2 = float(input('Please provide second number:'))\n",
        "s = input('Please provide operator (+, -, /, //, *, **, %):')\n",
        "\n",
        "if s == '+':\n",
        "  print(f'{n1} + {n2} = {n1 + n2}')\n",
        "elif s == '-':\n",
        "  print(f'{n1} - {n2} = {n1 - n2}')\n",
        "elif s == '/':\n",
        "  print(f'{n1} / {n2} = {n1 / n2}')\n",
        "elif s == '//':\n",
        "  print(f'{n1} // {n2} = {n1 // n2}')\n",
        "elif s == '*':\n",
        "  print(f'{n1} * {n2} = {n1 * n2}')\n",
        "elif s == '**':\n",
        "  print(f'{n1} ** {n2} = {n1 ** n2}')\n",
        "elif s == '%':\n",
        "  print(f'{n1} mod {n2} = {n1 % n2}')\n",
        "\n",
        "else:\n",
        "  print('Invalid operator')"
      ]
    }
  ]
}