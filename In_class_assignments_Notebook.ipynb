{
  "nbformat": 4,
  "nbformat_minor": 0,
  "metadata": {
    "colab": {
      "provenance": [],
      "authorship_tag": "ABX9TyM9IzmBVmVr5WPhZopZ9MEK",
      "include_colab_link": true
    },
    "kernelspec": {
      "name": "python3",
      "display_name": "Python 3"
    },
    "language_info": {
      "name": "python"
    }
  },
  "cells": [
    {
      "cell_type": "markdown",
      "metadata": {
        "id": "view-in-github",
        "colab_type": "text"
      },
      "source": [
        "<a href=\"https://colab.research.google.com/github/andresesses23/Test/blob/main/In_class_assignments_Notebook.ipynb\" target=\"_parent\"><img src=\"https://colab.research.google.com/assets/colab-badge.svg\" alt=\"Open In Colab\"/></a>"
      ]
    },
    {
      "cell_type": "code",
      "source": [
        "pi= 3.14\n",
        "radius = float(input('Please provide radius:'))\n",
        "height = float(input('Please provide height of cylinder: '))\n",
        "\n",
        "area = 2 * pi * radius ** 2 + 2 * pi * radius * height\n",
        "print(f'Area of cylinder = {area} sq. ft')"
      ],
      "metadata": {
        "colab": {
          "base_uri": "https://localhost:8080/"
        },
        "id": "_qhdRcFkhlpK",
        "outputId": "5e502b4d-4b1a-46b8-ca44-9b10a6e30fa5"
      },
      "execution_count": null,
      "outputs": [
        {
          "output_type": "stream",
          "name": "stdout",
          "text": [
            "Please provide radius:5\n",
            "Please provide height of cylinder: 10\n",
            "Area of cylinder = 471.0 sq. ft\n"
          ]
        }
      ]
    },
    {
      "cell_type": "code",
      "execution_count": null,
      "metadata": {
        "colab": {
          "base_uri": "https://localhost:8080/"
        },
        "id": "29SM9dp4b_ol",
        "outputId": "8e58efb2-673b-44db-d515-65a78258041d"
      },
      "outputs": [
        {
          "output_type": "stream",
          "name": "stdout",
          "text": [
            "Please provide first number:5\n",
            "Please provide second number:9\n",
            "Please provide operator (+, -, /, //, *, **, %):#\n",
            "Invalid operator\n"
          ]
        }
      ],
      "source": [
        "n1 = float(input('Please provide first number:'))\n",
        "n2 = float(input('Please provide second number:'))\n",
        "s = input('Please provide operator (+, -, /, //, *, **, %):')\n",
        "\n",
        "if s == '+':\n",
        "  print(f'{n1} + {n2} = {n1 + n2}')\n",
        "elif s == '-':\n",
        "  print(f'{n1} - {n2} = {n1 - n2}')\n",
        "elif s == '/':\n",
        "  print(f'{n1} / {n2} = {n1 / n2}')\n",
        "elif s == '//':\n",
        "  print(f'{n1} // {n2} = {n1 // n2}')\n",
        "elif s == '*':\n",
        "  print(f'{n1} * {n2} = {n1 * n2}')\n",
        "elif s == '**':\n",
        "  print(f'{n1} ** {n2} = {n1 ** n2}')\n",
        "elif s == '%':\n",
        "  print(f'{n1} mod {n2} = {n1 % n2}')\n",
        "\n",
        "else:\n",
        "  print('Invalid operator')"
      ]
    },
    {
      "cell_type": "code",
      "source": [
        "for numberHours in range(1,9):\n",
        "  fee = 5 + 2.5 * numberHours\n",
        "  if fee <= 10:\n",
        "    fee = 10.0\n",
        "  elif fee >= 20:\n",
        "    fee = 20.0\n",
        "  print(numberHours,fee)"
      ],
      "metadata": {
        "colab": {
          "base_uri": "https://localhost:8080/"
        },
        "id": "ULU62RTbMuVM",
        "outputId": "21a665b3-a474-4f0a-8f6a-0c90d5b18a04"
      },
      "execution_count": null,
      "outputs": [
        {
          "output_type": "stream",
          "name": "stdout",
          "text": [
            "1 10.0\n",
            "2 10.0\n",
            "3 12.5\n",
            "4 15.0\n",
            "5 17.5\n",
            "6 20.0\n",
            "7 20.0\n",
            "8 20.0\n"
          ]
        }
      ]
    },
    {
      "cell_type": "code",
      "source": [
        "import math\n",
        "\n",
        "print('$Ad\\t', 'Profit')\n",
        "for adCost in range(0,201,25):\n",
        "  additional = 2 * round(math.sqrt(adCost))  #instead of adCost ** 0.5\n",
        "  profit = (20 + additional) * 10 - 200 - adCost\n",
        "  print(adCost, '\\t', profit)"
      ],
      "metadata": {
        "colab": {
          "base_uri": "https://localhost:8080/"
        },
        "id": "WeMIDPd5PMA8",
        "outputId": "dfddc633-4708-4d1c-93f9-be862c2605b9"
      },
      "execution_count": null,
      "outputs": [
        {
          "output_type": "stream",
          "name": "stdout",
          "text": [
            "$Ad\t Profit\n",
            "0 \t 0\n",
            "25 \t 75\n",
            "50 \t 90\n",
            "75 \t 105\n",
            "100 \t 100\n",
            "125 \t 95\n",
            "150 \t 90\n",
            "175 \t 85\n",
            "200 \t 80\n"
          ]
        }
      ]
    },
    {
      "cell_type": "code",
      "source": [
        "play = input('Do you want to play a game (yes/no)?')\n",
        "\n",
        "while play == 'yes':\n",
        "  p1 = input('Player 1 - Choose between rock/paper/scissors: ')\n",
        "  p2 = input('Player 2 - Choose between rock/paper/scissors: ')\n",
        "\n",
        "  if p1 == p2:\n",
        "    print('Draw')\n",
        "  elif p1 == 'Rock' and p2 == 'Scissors':  #can also use function or to create one bigger argument instead of 3\n",
        "    print('Player 1 wins')\n",
        "  elif p1 == 'Scissors' and p2 == 'Paper':\n",
        "    print('Player 1 wins')\n",
        "  elif p1 == 'Paper' and p2 == 'Rock':\n",
        "    print('Player 1 wins')\n",
        "  else:\n",
        "    print('Player 2 wins')\n",
        "\n",
        "  play = input('Do you want to play a new game (yes/no)?')\n",
        "\n",
        "print('Good day!')\n"
      ],
      "metadata": {
        "colab": {
          "base_uri": "https://localhost:8080/"
        },
        "id": "DlitsP6649Qx",
        "outputId": "17b2f487-654d-4187-fad5-6632b12893a8"
      },
      "execution_count": null,
      "outputs": [
        {
          "output_type": "stream",
          "name": "stdout",
          "text": [
            "Do you want to play a game (yes/no)?yes\n",
            "Player 1 - Choose between rock/paper/scissors: Paper\n",
            "Player 2 - Choose between rock/paper/scissors: Rock\n",
            "Player 1 wins\n",
            "Do you want to play a new game (yes/no)?no\n",
            "Good day!\n"
          ]
        }
      ]
    },
    {
      "cell_type": "code",
      "source": [
        "#another version of the game with random function\n",
        "\n",
        "import random\n",
        "\n",
        "play = input('Do you want to play a game (yes/no)?: ')\n",
        "\n",
        "while play == 'yes':\n",
        "  p1 = input('Player - Choose between rock/paper/scissors:').capitalize()\n",
        "  p2 = random.choice(['rock', 'paper', 'scissors']).capitalize()\n",
        "\n",
        "  print(f'Player chose {p1}; Computer chose {p2}')\n",
        "\n",
        "  if p1 == p2:\n",
        "    print('Draw')\n",
        "  elif ((p1 == 'Rock' and p2 == 'Scissors') or\n",
        "  (p1 == 'Scissors' and p2 == 'Paper') or\n",
        "   (p1 == 'Paper' and p2 == 'Rock')):\n",
        "    print('Player wins')\n",
        "  else:\n",
        "    print('Computer wins!')\n",
        "\n",
        "  play = input('Do you want to play a new game (yes/no)?')\n",
        "\n",
        "print('Good day!')"
      ],
      "metadata": {
        "colab": {
          "base_uri": "https://localhost:8080/"
        },
        "id": "PmVagnjKV-sK",
        "outputId": "2e47f1ce-e60f-4efd-e96f-60bc639af501"
      },
      "execution_count": null,
      "outputs": [
        {
          "output_type": "stream",
          "name": "stdout",
          "text": [
            "Do you want to play a game (yes/no)?: yes\n",
            "Player - Choose between rock/paper/scissors:Paper\n",
            "Player chose Paper; Computer chose Rock\n",
            "Player wins\n",
            "Do you want to play a new game (yes/no)?no\n",
            "Good day!\n"
          ]
        }
      ]
    },
    {
      "cell_type": "code",
      "source": [
        "lst = []\n",
        "\n",
        "num = float(input('Please provide a number:'))\n",
        "\n",
        "while num != 0:\n",
        "  lst.append(num)\n",
        "  num = float(input('Please provide a number:'))\n",
        "lst.sort(reverse=True)\n",
        "print(lst)"
      ],
      "metadata": {
        "colab": {
          "base_uri": "https://localhost:8080/"
        },
        "id": "MJmYcEd9CSER",
        "outputId": "13b5763e-ecee-4b16-8a83-cc3a3f3d48f3"
      },
      "execution_count": null,
      "outputs": [
        {
          "output_type": "stream",
          "name": "stdout",
          "text": [
            "Please provide a number:5.6\n",
            "Please provide a number:2.7\n",
            "Please provide a number:1.608\n",
            "Please provide a number:5.398\n",
            "Please provide a number:0\n",
            "[5.6, 5.398, 2.7, 1.608]\n"
          ]
        }
      ]
    },
    {
      "cell_type": "code",
      "source": [
        "#other way to do it\n",
        "\n",
        "lst = []\n",
        "\n",
        "while True:\n",
        "  num = float(input('Please provide a number:'))\n",
        "  if num == 0.0:\n",
        "    break\n",
        "  lst.append(num)\n",
        "lst.sort(reverse=True)\n",
        "print(lst)"
      ],
      "metadata": {
        "colab": {
          "base_uri": "https://localhost:8080/"
        },
        "id": "4DPZ8-3dD0xu",
        "outputId": "19879b1c-f114-4a2f-f355-5f41377a8fee"
      },
      "execution_count": null,
      "outputs": [
        {
          "output_type": "stream",
          "name": "stdout",
          "text": [
            "Please provide a number:5\n",
            "Please provide a number:8\n",
            "Please provide a number:7\n",
            "Please provide a number:4\n",
            "Please provide a number:0\n",
            "[8.0, 7.0, 5.0, 4.0]\n"
          ]
        }
      ]
    },
    {
      "cell_type": "code",
      "source": [
        "months = {}\n",
        "\n",
        "names = [\"Jan\", \"Feb\", \"Mar\", \"Apr\", \"May\", \"Jun\", \"Jul\", \"Aug\", \"Sep\", \"Oct\",\"Nov\", \"Dec\"]\n",
        "numbers = [1,2,3,4,5,6,7,8,9,10,11,12]\n",
        "\n",
        "for idx in range(len(numbers)):\n",
        "  months[numbers[idx]] = names[idx]\n",
        "months"
      ],
      "metadata": {
        "colab": {
          "base_uri": "https://localhost:8080/"
        },
        "id": "YI0dfQtglZHY",
        "outputId": "7c495a5a-6f81-432a-df77-4b36a95af3f5"
      },
      "execution_count": null,
      "outputs": [
        {
          "output_type": "execute_result",
          "data": {
            "text/plain": [
              "{1: 'Jan',\n",
              " 2: 'Feb',\n",
              " 3: 'Mar',\n",
              " 4: 'Apr',\n",
              " 5: 'May',\n",
              " 6: 'Jun',\n",
              " 7: 'Jul',\n",
              " 8: 'Aug',\n",
              " 9: 'Sep',\n",
              " 10: 'Oct',\n",
              " 11: 'Nov',\n",
              " 12: 'Dec'}"
            ]
          },
          "metadata": {},
          "execution_count": 6
        }
      ]
    },
    {
      "cell_type": "code",
      "source": [
        "#another way to do it\n",
        "months = {}\n",
        "\n",
        "names = [\"Jan\", \"Feb\", \"Mar\", \"Apr\", \"May\", \"Jun\", \"Jul\", \"Aug\", \"Sep\", \"Oct\",\"Nov\", \"Dec\"]\n",
        "numbers = [1,2,3,4,5,6,7,8,9,10,11,12]\n",
        "\n",
        "cntr = 0\n",
        "for num in numbers:\n",
        "  months[num] = names[cntr]\n",
        "  cntr += 1\n",
        "months"
      ],
      "metadata": {
        "colab": {
          "base_uri": "https://localhost:8080/"
        },
        "id": "sRBdekD_mbwn",
        "outputId": "5f98c9cf-ec70-4585-fac4-661a9adbc5a5"
      },
      "execution_count": null,
      "outputs": [
        {
          "output_type": "execute_result",
          "data": {
            "text/plain": [
              "{1: 'Jan',\n",
              " 2: 'Feb',\n",
              " 3: 'Mar',\n",
              " 4: 'Apr',\n",
              " 5: 'May',\n",
              " 6: 'Jun',\n",
              " 7: 'Jul',\n",
              " 8: 'Aug',\n",
              " 9: 'Sep',\n",
              " 10: 'Oct',\n",
              " 11: 'Nov',\n",
              " 12: 'Dec'}"
            ]
          },
          "metadata": {},
          "execution_count": 7
        }
      ]
    },
    {
      "cell_type": "code",
      "source": [
        "#last way to do it\n",
        "months = {}\n",
        "\n",
        "names = [\"Jan\", \"Feb\", \"Mar\", \"Apr\", \"May\", \"Jun\", \"Jul\", \"Aug\", \"Sep\", \"Oct\",\"Nov\", \"Dec\"]\n",
        "numbers = [1,2,3,4,5,6,7,8,9,10,11,12]\n",
        "\n",
        "for i in range(len(names)):\n",
        "  months[numbers[i]] = names[i]\n",
        "\n",
        "print(months)"
      ],
      "metadata": {
        "colab": {
          "base_uri": "https://localhost:8080/"
        },
        "id": "jld_8JI0iPYl",
        "outputId": "d3ed990e-dc20-4692-990d-9cbb22221926"
      },
      "execution_count": null,
      "outputs": [
        {
          "output_type": "stream",
          "name": "stdout",
          "text": [
            "{1: 'Jan', 2: 'Feb', 3: 'Mar', 4: 'Apr', 5: 'May', 6: 'Jun', 7: 'Jul', 8: 'Aug', 9: 'Sep', 10: 'Oct', 11: 'Nov', 12: 'Dec'}\n"
          ]
        }
      ]
    },
    {
      "cell_type": "code",
      "source": [
        "counts = {}\n",
        "\n",
        "while len(counts) < 5:\n",
        "  key = input('Please provide a string:')\n",
        "\n",
        "  if key not in counts:\n",
        "    counts[key] = 1\n",
        "  else:\n",
        "    counts[key] += 1\n",
        "\n",
        "print(counts)"
      ],
      "metadata": {
        "colab": {
          "base_uri": "https://localhost:8080/"
        },
        "id": "nHvz7NlZo2W0",
        "outputId": "d530ad7d-b4af-49f5-f750-0a8174970ab1"
      },
      "execution_count": null,
      "outputs": [
        {
          "output_type": "stream",
          "name": "stdout",
          "text": [
            "Please provide a string:a\n",
            "Please provide a string:b\n",
            "Please provide a string:c\n",
            "Please provide a string:d\n",
            "Please provide a string:a\n",
            "Please provide a string:a\n",
            "Please provide a string:a\n",
            "Please provide a string:e\n",
            "{'a': 4, 'b': 1, 'c': 1, 'd': 1, 'e': 1}\n"
          ]
        }
      ]
    },
    {
      "cell_type": "code",
      "source": [
        "def calcFee(hours):\n",
        "  fee = 5 + 2.5 * hours\n",
        "  if fee < 10:\n",
        "    fee = 10.0\n",
        "  elif fee > 20:\n",
        "    fee = 20.0\n",
        "  print(f'Fee: {fee}$')\n",
        "  return\n",
        "\n",
        "def main():\n",
        "  numHours = int(input('Enter number of hours:'))\n",
        "  calcFee(numHours)\n",
        "\n",
        "main()"
      ],
      "metadata": {
        "colab": {
          "base_uri": "https://localhost:8080/"
        },
        "id": "AWt8f80pXZzc",
        "outputId": "689c798b-d4d5-4970-a492-1daa74345a63"
      },
      "execution_count": null,
      "outputs": [
        {
          "output_type": "stream",
          "name": "stdout",
          "text": [
            "Enter number of hours:5\n",
            "Fee: 17.5$\n"
          ]
        }
      ]
    },
    {
      "cell_type": "code",
      "source": [
        "def reverse(s):\n",
        "  if len(s) == 1:\n",
        "    return s\n",
        "  else:\n",
        "    return s[-1] + reverse(s[:-1])\n",
        "\n",
        "reverse('Hello')"
      ],
      "metadata": {
        "id": "44rylrJzp8_Z",
        "colab": {
          "base_uri": "https://localhost:8080/",
          "height": 35
        },
        "outputId": "dc25f2a4-0258-4151-b972-dae4855861e3"
      },
      "execution_count": 1,
      "outputs": [
        {
          "output_type": "execute_result",
          "data": {
            "text/plain": [
              "'olleH'"
            ],
            "application/vnd.google.colaboratory.intrinsic+json": {
              "type": "string"
            }
          },
          "metadata": {},
          "execution_count": 1
        }
      ]
    }
  ]
}